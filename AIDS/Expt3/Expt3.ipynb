{
 "cells": [
  {
   "cell_type": "code",
   "execution_count": 1,
   "metadata": {},
   "outputs": [],
   "source": [
    "import pandas as pd"
   ]
  },
  {
   "cell_type": "code",
   "execution_count": 9,
   "metadata": {},
   "outputs": [
    {
     "data": {
      "text/html": [
       "<div>\n",
       "<style scoped>\n",
       "    .dataframe tbody tr th:only-of-type {\n",
       "        vertical-align: middle;\n",
       "    }\n",
       "\n",
       "    .dataframe tbody tr th {\n",
       "        vertical-align: top;\n",
       "    }\n",
       "\n",
       "    .dataframe thead th {\n",
       "        text-align: right;\n",
       "    }\n",
       "</style>\n",
       "<table border=\"1\" class=\"dataframe\">\n",
       "  <thead>\n",
       "    <tr style=\"text-align: right;\">\n",
       "      <th></th>\n",
       "      <th>username</th>\n",
       "      <th>service_provider_username</th>\n",
       "      <th>service</th>\n",
       "      <th>price</th>\n",
       "      <th>no_of_pages</th>\n",
       "      <th>topic</th>\n",
       "      <th>date</th>\n",
       "      <th>deadline</th>\n",
       "    </tr>\n",
       "  </thead>\n",
       "  <tbody>\n",
       "    <tr>\n",
       "      <th>0</th>\n",
       "      <td>user1</td>\n",
       "      <td>provider1</td>\n",
       "      <td>Website</td>\n",
       "      <td>1525</td>\n",
       "      <td>6</td>\n",
       "      <td>Topic1</td>\n",
       "      <td>2024-01-22</td>\n",
       "      <td>2024-02-02</td>\n",
       "    </tr>\n",
       "    <tr>\n",
       "      <th>1</th>\n",
       "      <td>user2</td>\n",
       "      <td>provider2</td>\n",
       "      <td>PPT</td>\n",
       "      <td>200</td>\n",
       "      <td>7</td>\n",
       "      <td>Topic2</td>\n",
       "      <td>2024-02-09</td>\n",
       "      <td>2024-02-14</td>\n",
       "    </tr>\n",
       "    <tr>\n",
       "      <th>2</th>\n",
       "      <td>user3</td>\n",
       "      <td>provider3</td>\n",
       "      <td>PPT</td>\n",
       "      <td>200</td>\n",
       "      <td>8</td>\n",
       "      <td>Topic3</td>\n",
       "      <td>2024-02-18</td>\n",
       "      <td>2024-03-02</td>\n",
       "    </tr>\n",
       "    <tr>\n",
       "      <th>3</th>\n",
       "      <td>user4</td>\n",
       "      <td>provider4</td>\n",
       "      <td>Website</td>\n",
       "      <td>1525</td>\n",
       "      <td>6</td>\n",
       "      <td>Topic4</td>\n",
       "      <td>2024-02-19</td>\n",
       "      <td>2024-03-01</td>\n",
       "    </tr>\n",
       "    <tr>\n",
       "      <th>4</th>\n",
       "      <td>user5</td>\n",
       "      <td>provider5</td>\n",
       "      <td>App</td>\n",
       "      <td>2075</td>\n",
       "      <td>6</td>\n",
       "      <td>Topic5</td>\n",
       "      <td>2024-02-12</td>\n",
       "      <td>2024-02-25</td>\n",
       "    </tr>\n",
       "    <tr>\n",
       "      <th>...</th>\n",
       "      <td>...</td>\n",
       "      <td>...</td>\n",
       "      <td>...</td>\n",
       "      <td>...</td>\n",
       "      <td>...</td>\n",
       "      <td>...</td>\n",
       "      <td>...</td>\n",
       "      <td>...</td>\n",
       "    </tr>\n",
       "    <tr>\n",
       "      <th>9995</th>\n",
       "      <td>user9996</td>\n",
       "      <td>provider9996</td>\n",
       "      <td>Website</td>\n",
       "      <td>1500</td>\n",
       "      <td>5</td>\n",
       "      <td>Topic9996</td>\n",
       "      <td>2024-01-29</td>\n",
       "      <td>2024-02-08</td>\n",
       "    </tr>\n",
       "    <tr>\n",
       "      <th>9996</th>\n",
       "      <td>user9997</td>\n",
       "      <td>provider9997</td>\n",
       "      <td>Website</td>\n",
       "      <td>1500</td>\n",
       "      <td>3</td>\n",
       "      <td>Topic9997</td>\n",
       "      <td>2024-02-08</td>\n",
       "      <td>2024-02-23</td>\n",
       "    </tr>\n",
       "    <tr>\n",
       "      <th>9997</th>\n",
       "      <td>user9998</td>\n",
       "      <td>provider9998</td>\n",
       "      <td>Website</td>\n",
       "      <td>1725</td>\n",
       "      <td>6</td>\n",
       "      <td>Topic9998</td>\n",
       "      <td>2024-02-10</td>\n",
       "      <td>2024-02-13</td>\n",
       "    </tr>\n",
       "    <tr>\n",
       "      <th>9998</th>\n",
       "      <td>user9999</td>\n",
       "      <td>provider9999</td>\n",
       "      <td>Website</td>\n",
       "      <td>1500</td>\n",
       "      <td>5</td>\n",
       "      <td>Topic9999</td>\n",
       "      <td>2024-02-15</td>\n",
       "      <td>2024-02-28</td>\n",
       "    </tr>\n",
       "    <tr>\n",
       "      <th>9999</th>\n",
       "      <td>user10000</td>\n",
       "      <td>provider10000</td>\n",
       "      <td>Docs</td>\n",
       "      <td>175</td>\n",
       "      <td>11</td>\n",
       "      <td>Topic10000</td>\n",
       "      <td>2024-02-05</td>\n",
       "      <td>2024-02-17</td>\n",
       "    </tr>\n",
       "  </tbody>\n",
       "</table>\n",
       "<p>10000 rows × 8 columns</p>\n",
       "</div>"
      ],
      "text/plain": [
       "       username service_provider_username  service  price  no_of_pages  \\\n",
       "0         user1                 provider1  Website   1525            6   \n",
       "1         user2                 provider2      PPT    200            7   \n",
       "2         user3                 provider3      PPT    200            8   \n",
       "3         user4                 provider4  Website   1525            6   \n",
       "4         user5                 provider5      App   2075            6   \n",
       "...         ...                       ...      ...    ...          ...   \n",
       "9995   user9996              provider9996  Website   1500            5   \n",
       "9996   user9997              provider9997  Website   1500            3   \n",
       "9997   user9998              provider9998  Website   1725            6   \n",
       "9998   user9999              provider9999  Website   1500            5   \n",
       "9999  user10000             provider10000     Docs    175           11   \n",
       "\n",
       "           topic        date    deadline  \n",
       "0         Topic1  2024-01-22  2024-02-02  \n",
       "1         Topic2  2024-02-09  2024-02-14  \n",
       "2         Topic3  2024-02-18  2024-03-02  \n",
       "3         Topic4  2024-02-19  2024-03-01  \n",
       "4         Topic5  2024-02-12  2024-02-25  \n",
       "...          ...         ...         ...  \n",
       "9995   Topic9996  2024-01-29  2024-02-08  \n",
       "9996   Topic9997  2024-02-08  2024-02-23  \n",
       "9997   Topic9998  2024-02-10  2024-02-13  \n",
       "9998   Topic9999  2024-02-15  2024-02-28  \n",
       "9999  Topic10000  2024-02-05  2024-02-17  \n",
       "\n",
       "[10000 rows x 8 columns]"
      ]
     },
     "execution_count": 9,
     "metadata": {},
     "output_type": "execute_result"
    }
   ],
   "source": [
    "data=pd.read_csv('generated_dataset.csv')\n",
    "data"
   ]
  },
  {
   "cell_type": "code",
   "execution_count": 10,
   "metadata": {},
   "outputs": [
    {
     "data": {
      "text/html": [
       "<div>\n",
       "<style scoped>\n",
       "    .dataframe tbody tr th:only-of-type {\n",
       "        vertical-align: middle;\n",
       "    }\n",
       "\n",
       "    .dataframe tbody tr th {\n",
       "        vertical-align: top;\n",
       "    }\n",
       "\n",
       "    .dataframe thead th {\n",
       "        text-align: right;\n",
       "    }\n",
       "</style>\n",
       "<table border=\"1\" class=\"dataframe\">\n",
       "  <thead>\n",
       "    <tr style=\"text-align: right;\">\n",
       "      <th></th>\n",
       "      <th>service</th>\n",
       "      <th>price</th>\n",
       "      <th>no_of_pages</th>\n",
       "      <th>topic</th>\n",
       "      <th>date</th>\n",
       "      <th>deadline</th>\n",
       "    </tr>\n",
       "  </thead>\n",
       "  <tbody>\n",
       "    <tr>\n",
       "      <th>0</th>\n",
       "      <td>Website</td>\n",
       "      <td>1525</td>\n",
       "      <td>6</td>\n",
       "      <td>Topic1</td>\n",
       "      <td>2024-01-22</td>\n",
       "      <td>2024-02-02</td>\n",
       "    </tr>\n",
       "    <tr>\n",
       "      <th>1</th>\n",
       "      <td>PPT</td>\n",
       "      <td>200</td>\n",
       "      <td>7</td>\n",
       "      <td>Topic2</td>\n",
       "      <td>2024-02-09</td>\n",
       "      <td>2024-02-14</td>\n",
       "    </tr>\n",
       "    <tr>\n",
       "      <th>2</th>\n",
       "      <td>PPT</td>\n",
       "      <td>200</td>\n",
       "      <td>8</td>\n",
       "      <td>Topic3</td>\n",
       "      <td>2024-02-18</td>\n",
       "      <td>2024-03-02</td>\n",
       "    </tr>\n",
       "    <tr>\n",
       "      <th>3</th>\n",
       "      <td>Website</td>\n",
       "      <td>1525</td>\n",
       "      <td>6</td>\n",
       "      <td>Topic4</td>\n",
       "      <td>2024-02-19</td>\n",
       "      <td>2024-03-01</td>\n",
       "    </tr>\n",
       "    <tr>\n",
       "      <th>4</th>\n",
       "      <td>App</td>\n",
       "      <td>2075</td>\n",
       "      <td>6</td>\n",
       "      <td>Topic5</td>\n",
       "      <td>2024-02-12</td>\n",
       "      <td>2024-02-25</td>\n",
       "    </tr>\n",
       "  </tbody>\n",
       "</table>\n",
       "</div>"
      ],
      "text/plain": [
       "   service  price  no_of_pages   topic        date    deadline\n",
       "0  Website   1525            6  Topic1  2024-01-22  2024-02-02\n",
       "1      PPT    200            7  Topic2  2024-02-09  2024-02-14\n",
       "2      PPT    200            8  Topic3  2024-02-18  2024-03-02\n",
       "3  Website   1525            6  Topic4  2024-02-19  2024-03-01\n",
       "4      App   2075            6  Topic5  2024-02-12  2024-02-25"
      ]
     },
     "execution_count": 10,
     "metadata": {},
     "output_type": "execute_result"
    }
   ],
   "source": [
    "columns_to_keep = [ 'service', 'price', 'no_of_pages', 'topic','date', 'deadline']\n",
    "data = data[columns_to_keep].dropna()\n",
    "data.head()"
   ]
  },
  {
   "cell_type": "code",
   "execution_count": 11,
   "metadata": {},
   "outputs": [
    {
     "data": {
      "text/html": [
       "<div>\n",
       "<style scoped>\n",
       "    .dataframe tbody tr th:only-of-type {\n",
       "        vertical-align: middle;\n",
       "    }\n",
       "\n",
       "    .dataframe tbody tr th {\n",
       "        vertical-align: top;\n",
       "    }\n",
       "\n",
       "    .dataframe thead th {\n",
       "        text-align: right;\n",
       "    }\n",
       "</style>\n",
       "<table border=\"1\" class=\"dataframe\">\n",
       "  <thead>\n",
       "    <tr style=\"text-align: right;\">\n",
       "      <th></th>\n",
       "      <th>no_of_pages</th>\n",
       "    </tr>\n",
       "  </thead>\n",
       "  <tbody>\n",
       "    <tr>\n",
       "      <th>count</th>\n",
       "      <td>10000.00000</td>\n",
       "    </tr>\n",
       "    <tr>\n",
       "      <th>mean</th>\n",
       "      <td>7.78150</td>\n",
       "    </tr>\n",
       "    <tr>\n",
       "      <th>std</th>\n",
       "      <td>5.09619</td>\n",
       "    </tr>\n",
       "    <tr>\n",
       "      <th>min</th>\n",
       "      <td>1.00000</td>\n",
       "    </tr>\n",
       "    <tr>\n",
       "      <th>25%</th>\n",
       "      <td>4.00000</td>\n",
       "    </tr>\n",
       "    <tr>\n",
       "      <th>50%</th>\n",
       "      <td>6.00000</td>\n",
       "    </tr>\n",
       "    <tr>\n",
       "      <th>75%</th>\n",
       "      <td>10.25000</td>\n",
       "    </tr>\n",
       "    <tr>\n",
       "      <th>max</th>\n",
       "      <td>20.00000</td>\n",
       "    </tr>\n",
       "  </tbody>\n",
       "</table>\n",
       "</div>"
      ],
      "text/plain": [
       "       no_of_pages\n",
       "count  10000.00000\n",
       "mean       7.78150\n",
       "std        5.09619\n",
       "min        1.00000\n",
       "25%        4.00000\n",
       "50%        6.00000\n",
       "75%       10.25000\n",
       "max       20.00000"
      ]
     },
     "execution_count": 11,
     "metadata": {},
     "output_type": "execute_result"
    }
   ],
   "source": [
    "\n",
    "y=data['price']\n",
    "features=['service','no_of_pages','date','deadline']\n",
    "X=data[features]\n",
    "X.describe()"
   ]
  },
  {
   "cell_type": "code",
   "execution_count": 12,
   "metadata": {},
   "outputs": [],
   "source": [
    "\n",
    "data['date'] = pd.to_datetime(data['date'])\n",
    "data['deadline'] = pd.to_datetime(data['deadline'])\n",
    "data['days']=data['deadline']-data['date']\n"
   ]
  },
  {
   "cell_type": "code",
   "execution_count": 13,
   "metadata": {},
   "outputs": [],
   "source": [
    "data.drop(['date','deadline'],axis=1,inplace=True)"
   ]
  },
  {
   "cell_type": "code",
   "execution_count": 14,
   "metadata": {},
   "outputs": [
    {
     "data": {
      "text/html": [
       "<div>\n",
       "<style scoped>\n",
       "    .dataframe tbody tr th:only-of-type {\n",
       "        vertical-align: middle;\n",
       "    }\n",
       "\n",
       "    .dataframe tbody tr th {\n",
       "        vertical-align: top;\n",
       "    }\n",
       "\n",
       "    .dataframe thead th {\n",
       "        text-align: right;\n",
       "    }\n",
       "</style>\n",
       "<table border=\"1\" class=\"dataframe\">\n",
       "  <thead>\n",
       "    <tr style=\"text-align: right;\">\n",
       "      <th></th>\n",
       "      <th>service</th>\n",
       "      <th>price</th>\n",
       "      <th>no_of_pages</th>\n",
       "      <th>topic</th>\n",
       "      <th>days</th>\n",
       "    </tr>\n",
       "  </thead>\n",
       "  <tbody>\n",
       "    <tr>\n",
       "      <th>0</th>\n",
       "      <td>Website</td>\n",
       "      <td>1525</td>\n",
       "      <td>6</td>\n",
       "      <td>Topic1</td>\n",
       "      <td>11</td>\n",
       "    </tr>\n",
       "    <tr>\n",
       "      <th>1</th>\n",
       "      <td>PPT</td>\n",
       "      <td>200</td>\n",
       "      <td>7</td>\n",
       "      <td>Topic2</td>\n",
       "      <td>5</td>\n",
       "    </tr>\n",
       "    <tr>\n",
       "      <th>2</th>\n",
       "      <td>PPT</td>\n",
       "      <td>200</td>\n",
       "      <td>8</td>\n",
       "      <td>Topic3</td>\n",
       "      <td>13</td>\n",
       "    </tr>\n",
       "    <tr>\n",
       "      <th>3</th>\n",
       "      <td>Website</td>\n",
       "      <td>1525</td>\n",
       "      <td>6</td>\n",
       "      <td>Topic4</td>\n",
       "      <td>11</td>\n",
       "    </tr>\n",
       "    <tr>\n",
       "      <th>4</th>\n",
       "      <td>App</td>\n",
       "      <td>2075</td>\n",
       "      <td>6</td>\n",
       "      <td>Topic5</td>\n",
       "      <td>13</td>\n",
       "    </tr>\n",
       "  </tbody>\n",
       "</table>\n",
       "</div>"
      ],
      "text/plain": [
       "   service  price  no_of_pages   topic  days\n",
       "0  Website   1525            6  Topic1    11\n",
       "1      PPT    200            7  Topic2     5\n",
       "2      PPT    200            8  Topic3    13\n",
       "3  Website   1525            6  Topic4    11\n",
       "4      App   2075            6  Topic5    13"
      ]
     },
     "execution_count": 14,
     "metadata": {},
     "output_type": "execute_result"
    }
   ],
   "source": [
    "data['days']=data['days'].dt.days\n",
    "data.head()"
   ]
  },
  {
   "cell_type": "code",
   "execution_count": 17,
   "metadata": {},
   "outputs": [
    {
     "data": {
      "text/html": [
       "<div>\n",
       "<style scoped>\n",
       "    .dataframe tbody tr th:only-of-type {\n",
       "        vertical-align: middle;\n",
       "    }\n",
       "\n",
       "    .dataframe tbody tr th {\n",
       "        vertical-align: top;\n",
       "    }\n",
       "\n",
       "    .dataframe thead th {\n",
       "        text-align: right;\n",
       "    }\n",
       "</style>\n",
       "<table border=\"1\" class=\"dataframe\">\n",
       "  <thead>\n",
       "    <tr style=\"text-align: right;\">\n",
       "      <th></th>\n",
       "      <th>service</th>\n",
       "      <th>price</th>\n",
       "      <th>no_of_pages</th>\n",
       "      <th>topic</th>\n",
       "      <th>days</th>\n",
       "    </tr>\n",
       "  </thead>\n",
       "  <tbody>\n",
       "    <tr>\n",
       "      <th>0</th>\n",
       "      <td>3</td>\n",
       "      <td>1525</td>\n",
       "      <td>6</td>\n",
       "      <td>Topic1</td>\n",
       "      <td>11</td>\n",
       "    </tr>\n",
       "    <tr>\n",
       "      <th>1</th>\n",
       "      <td>2</td>\n",
       "      <td>200</td>\n",
       "      <td>7</td>\n",
       "      <td>Topic2</td>\n",
       "      <td>5</td>\n",
       "    </tr>\n",
       "    <tr>\n",
       "      <th>2</th>\n",
       "      <td>2</td>\n",
       "      <td>200</td>\n",
       "      <td>8</td>\n",
       "      <td>Topic3</td>\n",
       "      <td>13</td>\n",
       "    </tr>\n",
       "    <tr>\n",
       "      <th>3</th>\n",
       "      <td>3</td>\n",
       "      <td>1525</td>\n",
       "      <td>6</td>\n",
       "      <td>Topic4</td>\n",
       "      <td>11</td>\n",
       "    </tr>\n",
       "    <tr>\n",
       "      <th>4</th>\n",
       "      <td>0</td>\n",
       "      <td>2075</td>\n",
       "      <td>6</td>\n",
       "      <td>Topic5</td>\n",
       "      <td>13</td>\n",
       "    </tr>\n",
       "    <tr>\n",
       "      <th>...</th>\n",
       "      <td>...</td>\n",
       "      <td>...</td>\n",
       "      <td>...</td>\n",
       "      <td>...</td>\n",
       "      <td>...</td>\n",
       "    </tr>\n",
       "    <tr>\n",
       "      <th>9995</th>\n",
       "      <td>3</td>\n",
       "      <td>1500</td>\n",
       "      <td>5</td>\n",
       "      <td>Topic9996</td>\n",
       "      <td>10</td>\n",
       "    </tr>\n",
       "    <tr>\n",
       "      <th>9996</th>\n",
       "      <td>3</td>\n",
       "      <td>1500</td>\n",
       "      <td>3</td>\n",
       "      <td>Topic9997</td>\n",
       "      <td>15</td>\n",
       "    </tr>\n",
       "    <tr>\n",
       "      <th>9997</th>\n",
       "      <td>3</td>\n",
       "      <td>1725</td>\n",
       "      <td>6</td>\n",
       "      <td>Topic9998</td>\n",
       "      <td>3</td>\n",
       "    </tr>\n",
       "    <tr>\n",
       "      <th>9998</th>\n",
       "      <td>3</td>\n",
       "      <td>1500</td>\n",
       "      <td>5</td>\n",
       "      <td>Topic9999</td>\n",
       "      <td>13</td>\n",
       "    </tr>\n",
       "    <tr>\n",
       "      <th>9999</th>\n",
       "      <td>1</td>\n",
       "      <td>175</td>\n",
       "      <td>11</td>\n",
       "      <td>Topic10000</td>\n",
       "      <td>12</td>\n",
       "    </tr>\n",
       "  </tbody>\n",
       "</table>\n",
       "<p>10000 rows × 5 columns</p>\n",
       "</div>"
      ],
      "text/plain": [
       "      service  price  no_of_pages       topic  days\n",
       "0           3   1525            6      Topic1    11\n",
       "1           2    200            7      Topic2     5\n",
       "2           2    200            8      Topic3    13\n",
       "3           3   1525            6      Topic4    11\n",
       "4           0   2075            6      Topic5    13\n",
       "...       ...    ...          ...         ...   ...\n",
       "9995        3   1500            5   Topic9996    10\n",
       "9996        3   1500            3   Topic9997    15\n",
       "9997        3   1725            6   Topic9998     3\n",
       "9998        3   1500            5   Topic9999    13\n",
       "9999        1    175           11  Topic10000    12\n",
       "\n",
       "[10000 rows x 5 columns]"
      ]
     },
     "execution_count": 17,
     "metadata": {},
     "output_type": "execute_result"
    }
   ],
   "source": [
    "from sklearn.preprocessing import LabelEncoder\n",
    "label_encoder=LabelEncoder()\n",
    "data['service']=label_encoder.fit_transform(data['service'])\n",
    "data\n",
    "\n",
    "#0-App\n",
    "#1-Docs\n",
    "#3-Website\n",
    "#2-PPT\n"
   ]
  },
  {
   "cell_type": "code",
   "execution_count": 19,
   "metadata": {},
   "outputs": [
    {
     "data": {
      "text/plain": [
       "array([3, 2, 0, 1], dtype=int64)"
      ]
     },
     "execution_count": 19,
     "metadata": {},
     "output_type": "execute_result"
    }
   ],
   "source": [
    "data['service'].unique()"
   ]
  },
  {
   "cell_type": "code",
   "execution_count": 26,
   "metadata": {},
   "outputs": [],
   "source": [
    "import numpy as np\n",
    "from sklearn.model_selection import train_test_split\n",
    "shuffled_df = data.iloc[np.random.permutation(len(data))]\n",
    "X_train, X_test, y_train, y_test = train_test_split(shuffled_df[['days', 'no_of_pages', 'service']], shuffled_df['price'], test_size=0.3)\n"
   ]
  },
  {
   "cell_type": "code",
   "execution_count": 27,
   "metadata": {},
   "outputs": [
    {
     "data": {
      "text/plain": [
       "(7000, 3)"
      ]
     },
     "execution_count": 27,
     "metadata": {},
     "output_type": "execute_result"
    }
   ],
   "source": [
    "X_train.shape"
   ]
  },
  {
   "cell_type": "code",
   "execution_count": 28,
   "metadata": {},
   "outputs": [
    {
     "data": {
      "text/plain": [
       "(3000, 3)"
      ]
     },
     "execution_count": 28,
     "metadata": {},
     "output_type": "execute_result"
    }
   ],
   "source": [
    "X_test.shape"
   ]
  },
  {
   "cell_type": "code",
   "execution_count": 30,
   "metadata": {},
   "outputs": [
    {
     "data": {
      "text/plain": [
       "<Axes: xlabel='service', ylabel='no_of_pages'>"
      ]
     },
     "execution_count": 30,
     "metadata": {},
     "output_type": "execute_result"
    },
    {
     "data": {
      "image/png": "[encoded data removed]",
      "text/plain": [
       "<Figure size 640x480 with 1 Axes>"
      ]
     },
     "metadata": {},
     "output_type": "display_data"
    }
   ],
   "source": [
    "import seaborn as sns\n",
    "sns.scatterplot(x='service',y='no_of_pages',data=X_train)"
   ]
  },
  {
   "cell_type": "code",
   "execution_count": 31,
   "metadata": {},
   "outputs": [
    {
     "data": {
      "text/plain": [
       "<Axes: xlabel='service', ylabel='no_of_pages'>"
      ]
     },
     "execution_count": 31,
     "metadata": {},
     "output_type": "execute_result"
    },
    {
     "data": {
      "image/png": "[encoded data removed]",
      "text/plain": [
       "<Figure size 640x480 with 1 Axes>"
      ]
     },
     "metadata": {},
     "output_type": "display_data"
    }
   ],
   "source": [
    "sns.scatterplot(x='service',y='no_of_pages',data=X_test)"
   ]
  },
  {
   "cell_type": "code",
   "execution_count": 33,
   "metadata": {},
   "outputs": [
    {
     "data": {
      "text/plain": [
       "<BarContainer object of 7000 artists>"
      ]
     },
     "execution_count": 33,
     "metadata": {},
     "output_type": "execute_result"
    },
    {
     "data": {
      "image/png": "[encoded data removed]",
      "text/plain": [
       "<Figure size 640x480 with 1 Axes>"
      ]
     },
     "metadata": {},
     "output_type": "display_data"
    }
   ],
   "source": [
    "import matplotlib.pyplot as plt\n",
    "plt.bar(X_train['service'],X_train['no_of_pages'])"
   ]
  },
  {
   "cell_type": "code",
   "execution_count": 34,
   "metadata": {},
   "outputs": [
    {
     "data": {
      "text/plain": [
       "<BarContainer object of 3000 artists>"
      ]
     },
     "execution_count": 34,
     "metadata": {},
     "output_type": "execute_result"
    },
    {
     "data": {
      "image/png": "[encoded data removed]",
      "text/plain": [
       "<Figure size 640x480 with 1 Axes>"
      ]
     },
     "metadata": {},
     "output_type": "display_data"
    }
   ],
   "source": [
    "plt.bar(X_test['service'],X_test['no_of_pages'])"
   ]
  },
  {
   "cell_type": "code",
   "execution_count": 36,
   "metadata": {},
   "outputs": [
    {
     "data": {
      "text/plain": [
       "(-2.8284448125806954, 0.0046774765016475385)"
      ]
     },
     "execution_count": 36,
     "metadata": {},
     "output_type": "execute_result"
    }
   ],
   "source": [
    "from statsmodels.stats.weightstats import ztest as ztest\n",
    "ztest(y_test,y_train,value=0)"
   ]
  },
  {
   "cell_type": "code",
   "execution_count": null,
   "metadata": {},
   "outputs": [],
   "source": []
  }
 ],
 "metadata": {
  "kernelspec": {
   "display_name": "Python 3",
   "language": "python",
   "name": "python3"
  },
  "language_info": {
   "codemirror_mode": {
    "name": "ipython",
    "version": 3
   },
   "file_extension": ".py",
   "mimetype": "text/x-python",
   "name": "python",
   "nbconvert_exporter": "python",
   "pygments_lexer": "ipython3",
   "version": "3.11.3"
  }
 },
 "nbformat": 4,
 "nbformat_minor": 2
}
